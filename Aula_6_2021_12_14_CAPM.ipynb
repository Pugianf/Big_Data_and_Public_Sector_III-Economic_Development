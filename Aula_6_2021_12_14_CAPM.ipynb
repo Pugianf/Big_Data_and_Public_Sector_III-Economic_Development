{
  "cells": [
    {
      "cell_type": "markdown",
      "metadata": {
        "id": "view-in-github",
        "colab_type": "text"
      },
      "source": [
        "<a href=\"https://colab.research.google.com/github/Pugianf/Big_Data_and_Public_Sector_III-Economic_Development/blob/main/Aula_6_2021_12_14_CAPM.ipynb\" target=\"_parent\"><img src=\"https://colab.research.google.com/assets/colab-badge.svg\" alt=\"Open In Colab\"/></a>"
      ]
    },
    {
      "cell_type": "markdown",
      "metadata": {
        "id": "Yf7lWKcVjC3E"
      },
      "source": [
        "## Bibliotecas"
      ]
    },
    {
      "cell_type": "markdown",
      "metadata": {
        "id": "ue3atmYDsrgK"
      },
      "source": [
        "# Finanças: *Capital Asset Pricing Model* (CAPM)\n",
        "\n",
        "\n",
        "---"
      ]
    },
    {
      "cell_type": "code",
      "source": [
        "## Instalando biblioteca para pegar os dados dos ativos (ações)\n",
        "from IPython.display import clear_output\n",
        "\n",
        "!pip install yfinance  # Yahoo Finance\n",
        "!pip install ipeadatapy  # dados do ipeadata (vamos usar para coletar risco-país)\n",
        "\n",
        "clear_output()"
      ],
      "metadata": {
        "id": "5SO6GXevsMyv"
      },
      "execution_count": null,
      "outputs": []
    },
    {
      "cell_type": "code",
      "execution_count": null,
      "metadata": {
        "id": "wrR02oUkRkAB"
      },
      "outputs": [],
      "source": [
        "## Importando o que for necessário\n",
        "# Manipulação e Coleta de Dados\n",
        "import ipeadatapy\n",
        "import yfinance as yf\n",
        "import pandas as pd\n",
        "import numpy as np\n",
        "\n",
        "# Testes e regressões\n",
        "from scipy import stats\n",
        "import statsmodels.api as sm\n",
        "import statsmodels.stats.api as sms\n",
        "from statsmodels.formula.api import ols\n",
        "\n",
        "# Gráficos\n",
        "import matplotlib.pyplot as plt\n",
        "import seaborn as sns\n",
        "from matplotlib import style\n",
        "import matplotlib.ticker as mtick\n",
        "\n",
        "style.use('ggplot')  # estilo do R"
      ]
    },
    {
      "cell_type": "markdown",
      "source": [
        "## Leitura e Limpeza dos Dados"
      ],
      "metadata": {
        "id": "CTwq4Qa6v3yO"
      }
    },
    {
      "cell_type": "markdown",
      "source": [
        "### Leitura e Limpeza"
      ],
      "metadata": {
        "id": "s1lsZ1GTPdJa"
      }
    },
    {
      "cell_type": "markdown",
      "source": [
        "Vamos usar a biblioteca do Yahoo para baixar os dados de ações. Por isso, nem precisamos montar o nosso Drive!"
      ],
      "metadata": {
        "id": "6j3KQaxfv5gJ"
      }
    },
    {
      "cell_type": "code",
      "source": [
        "## Baixando os dados dos últimos 12 anos (12y) por mês (1mo)\n",
        "# Na biblioteca, os tickers (códigos das ações) são separados por espaços\n",
        "# AAPL: Apple; MSFT: Microsoft; PBR: Petrobras; IBM: IBM;\n",
        "# Além deles, também queremos o índice S&P500 geral (^GSPC)\n",
        "# group_by: os tickers estarão nas colunas\n",
        "data = yf.download(tickers='^GSPC AAPL MSFT PBR IBM', period='12y', interval='1mo', group_by='ticker')\n",
        "\n",
        "# Vendo o DataFrame\n",
        "data\n",
        "\n",
        "# Resultado muito feio! Temos que arrumar e limpar os dados"
      ],
      "metadata": {
        "id": "hHAmgTAesq5h"
      },
      "execution_count": null,
      "outputs": []
    },
    {
      "cell_type": "code",
      "source": [
        "## Retirando linhas com valores nulos\n",
        "data.dropna(axis=0, inplace=True)\n",
        "\n",
        "## Vendo resultado\n",
        "data"
      ],
      "metadata": {
        "id": "08LLkmkdvq5e"
      },
      "execution_count": null,
      "outputs": []
    },
    {
      "cell_type": "code",
      "source": [
        "## Agora, vamos deixar nosso df apenas com a coluna de preço que nos interessa: o preço de fechamento ajustado da ação\n",
        "\n",
        "# Primeiro, vamos colocar o segundo nível do MultiIndex das colunas nas linhas\n",
        "data = data.stack(level=1).rename_axis(['Data', 'Preço'])\n",
        "data"
      ],
      "metadata": {
        "id": "FsHdhQjSxkXp"
      },
      "execution_count": null,
      "outputs": []
    },
    {
      "cell_type": "code",
      "source": [
        "## Vamos usar o query para selecionar apenas as linhas com Adj Close\n",
        "data.query(\"Preço == 'Adj Close'\", inplace=True)\n",
        "data"
      ],
      "metadata": {
        "id": "WJsWDZWjyGvE"
      },
      "execution_count": null,
      "outputs": []
    },
    {
      "cell_type": "code",
      "source": [
        "## Por fim, vamos droppar o index de preço\n",
        "data = data.droplevel(level=1)\n",
        "data"
      ],
      "metadata": {
        "id": "HiOb6lQmx1mX"
      },
      "execution_count": null,
      "outputs": []
    },
    {
      "cell_type": "markdown",
      "source": [
        "### Ações como Passeios Aleatórios?"
      ],
      "metadata": {
        "id": "238e72yrPcD0"
      }
    },
    {
      "cell_type": "markdown",
      "source": [
        "Lembrando da aula da 1ª disciplina de Séries de Tempo, comentamos que um exemplo clássico de passeio aleatório com deslocamento são os preços de ações.\n",
        "\n",
        "Relembrando, uma série é um passeio aleatório se ela for não-estacionária (média e variância não-constante no tempo) e possuir correlação serial.\n",
        "\n",
        "Em termos de equação, \n",
        "\n",
        "\\begin{align*}\n",
        "Y_t = \\phi Y_{t-1} + \\epsilon_t\n",
        "\\end{align*}\n",
        "\n",
        "onde $\\phi$ é **diferente de zero** (há correlação serial/autocorrelação) e $\\epsilon_t$ é um termo de erro que segue uma distribuição aleatória normal.\n",
        "\n",
        "Diferentemente de um ruído branco ou de uma série estacionária, sua média é diferente de 0 e possui uma variância não constante.\n",
        "\n",
        "Contudo, sua diferenciação gera um ruído branco ($\\epsilon_t$)."
      ],
      "metadata": {
        "id": "vdtjKeGoOBdb"
      }
    },
    {
      "cell_type": "code",
      "source": [
        "## Importando funções de série de tempo\n",
        "from statsmodels.tsa.stattools import adfuller  # teste de estacionariedade\n",
        "from statsmodels.graphics.tsaplots import plot_acf  # autocorrelação"
      ],
      "metadata": {
        "id": "pn8_dVRgP5Ys"
      },
      "execution_count": null,
      "outputs": []
    },
    {
      "cell_type": "code",
      "source": [
        "## Plottando (deixando de fora o S&P500 porque ele está muito fora de escala)\n",
        "data[[\"AAPL\", \"IBM\", \"MSFT\", \"PBR\"]].plot()"
      ],
      "metadata": {
        "id": "JJfgLuXEztu2"
      },
      "execution_count": null,
      "outputs": []
    },
    {
      "cell_type": "code",
      "source": [
        "## Criando um passeio aleatório com deslocamento\n",
        "# Veja como o comportamento volátil das curvas tende a ser parecido!\n",
        "\n",
        "# Valor inicial 0\n",
        "passeio = [0]\n",
        "\n",
        "## Criando valores\n",
        "for i in range(data.shape[0]):\n",
        "    # Criando o erro aleatório: random fornece um valor aleatório entre 0 e 1\n",
        "    # Se menor que 0.5, diminuir 1, caso contrário, somar 1\n",
        "    erro = -1 if np.random.random() < 0.5 else 1\n",
        "    passeio.append(passeio[-1] + erro)\n",
        "\n",
        "## Adicionando o deslocamento a cada etapa\n",
        "passeio_deslocamento = pd.Series(passeio) + 5\n",
        "\n",
        "## Plottando a série e sua média\n",
        "plt.plot(passeio_deslocamento)\n",
        "plt.hlines(y=np.mean(passeio_deslocamento), xmin=0, xmax=data.shape[0], color='red')\n",
        "print(f\"Média: {np.around(np.mean(passeio_deslocamento), 2)}\")"
      ],
      "metadata": {
        "id": "0nrcIU4m1mHa"
      },
      "execution_count": null,
      "outputs": []
    },
    {
      "cell_type": "code",
      "source": [
        "## Plottando a série da ação desejada e sua média\n",
        "# Calculando média\n",
        "sAcao = \"PBR\"\n",
        "nMedia = np.mean(data[sAcao])\n",
        "\n",
        "# Plottando\n",
        "plt.plot(np.array(data[sAcao]))\n",
        "plt.hlines(y=nMedia, xmin=0, xmax=data.shape[0], color='blue')\n",
        "print(f\"Média: US$ {np.around(nMedia, 2)}\")"
      ],
      "metadata": {
        "id": "lE6UJ_NKN35K"
      },
      "execution_count": null,
      "outputs": []
    },
    {
      "cell_type": "code",
      "source": [
        "## Vendo se há autocorrelação\n",
        "plot_acf(data[sAcao], lags=12)"
      ],
      "metadata": {
        "id": "JEKewblGQVgt"
      },
      "execution_count": null,
      "outputs": []
    },
    {
      "cell_type": "code",
      "source": [
        "## Testando estacionariedade usando o teste Aumentado de Dickey-Fuller\n",
        "resultado_adf = adfuller(data[sAcao])\n",
        "print(f\"P-valor do teste: {resultado_adf[1]}\")\n",
        "print(\"H0: a série NÃO é estacionária e possui raiz unitária.\")\n",
        "\n",
        "# Se p < 0.05, a série é estacionária\n",
        "\n",
        "## AAPL, MSFT e ^GSPC são com certeza não-estacionárias (p-valor de 1)\n",
        "## PBR tem p-valor de 0,17, enquanto IBM se comporta como estacionária"
      ],
      "metadata": {
        "id": "DsMXcYclQeYK"
      },
      "execution_count": null,
      "outputs": []
    },
    {
      "cell_type": "markdown",
      "source": [
        "## Retornos"
      ],
      "metadata": {
        "id": "lEj6JjTg0bxj"
      }
    },
    {
      "cell_type": "code",
      "source": [
        "## Calculando os retornos percentuais de cada ação\n",
        "# dropna(): excluindo o valor nulo da primeira data\n",
        "dfRetornos = data.pct_change().dropna()\n",
        "\n",
        "## Vendo resultado\n",
        "dfRetornos"
      ],
      "metadata": {
        "id": "cgoqHPrLy5uN"
      },
      "execution_count": null,
      "outputs": []
    },
    {
      "cell_type": "code",
      "source": [
        "## Plottando\n",
        "# Tudo em um só gráfico\n",
        "ax = dfRetornos.plot(figsize=(10, 10))\n",
        "\n",
        "## Colocando eixo y em porcentagem\n",
        "# O jeito é diferente do da aula passada porque estamos usando o .plot() do pandas\n",
        "ax.yaxis.set_major_formatter(mtick.PercentFormatter())\n",
        "\n",
        "# Petrobras é para os fortes! Muito volátil e parece ter sofrido muito com a pandemia"
      ],
      "metadata": {
        "id": "eYbSRyTy0hOb"
      },
      "execution_count": null,
      "outputs": []
    },
    {
      "cell_type": "code",
      "source": [
        "# Separado\n",
        "ax = dfRetornos.plot(subplots=True, figsize=(10, 10))"
      ],
      "metadata": {
        "id": "0WNTcMi-0Mko"
      },
      "execution_count": null,
      "outputs": []
    },
    {
      "cell_type": "code",
      "source": [
        "## Vendo estatísticas descritivas\n",
        "dfRetornos.describe()"
      ],
      "metadata": {
        "id": "ySjfNFPM1PBd"
      },
      "execution_count": null,
      "outputs": []
    },
    {
      "cell_type": "markdown",
      "source": [
        "Na média, a IBM teve o menor retorno mensal, mas é seguida de perto pela Petrobras.\n",
        "Na outra ponta, AAPL e MSFT tiveram retornos médios de 2% a.m.!\n",
        "\n",
        "Além disso, PBR tem de longe o maior desvio padrão, sendo, portanto, mais volátil e arriscada. Além disso, houve um mês em que ela caiu mais de 54%!\n",
        "\n",
        "Como esperado, o ^GSPC - por ser um índice de várias ações - tem a menor volatildade, o que evidencia na prática o princípio da diversificação.\n",
        "\n",
        "Além disso, note que todas as ações tiveram retorno médio positivo durante o período!"
      ],
      "metadata": {
        "id": "hwkTiASZ2-Dt"
      }
    },
    {
      "cell_type": "markdown",
      "source": [
        "## Índice de Sharpe"
      ],
      "metadata": {
        "id": "wqD-UNUa3cjY"
      }
    },
    {
      "cell_type": "markdown",
      "source": [
        ""
      ],
      "metadata": {
        "id": "n10jXMEitwrO"
      }
    },
    {
      "cell_type": "markdown",
      "source": [
        "Vemos que há os retornos da MSFT e da AAPL são muito parecidos, mas a AAPL tem um retorno médio e uma volatildade maior. \n",
        "\n",
        "Qual delas será que tem o maior retorno ajustado ao risco?"
      ],
      "metadata": {
        "id": "2YWjvMpX3fCu"
      }
    },
    {
      "cell_type": "markdown",
      "source": [
        "Vamos calcular o índice de Sharpe, dado por\n",
        "\n",
        "$ IS = \\frac{E(Retorno) - r_f}{\\sigma_{Retorno}}, $\n",
        "\n",
        "onde $E(Retorno)$ é a média dos retornos, $r_f$ é a taxa livre de risco (geralmente, títulos públicos) e $\\sigma_{Retorno}$ é o desvio-padrão do retorno."
      ],
      "metadata": {
        "id": "9EnL6DaA5VIO"
      }
    },
    {
      "cell_type": "code",
      "source": [
        "## Como vimos acima, precisamos da taxa livre de risco\n",
        "# Ela é definida como a média dos retornos diários dos títulos do tesouro \n",
        "# americano de 10 anos de maturidade (^TNX)\n",
        "\n",
        "# Caso estivéssemos avaliando empresas em território brasileiro, o ideal é somar\n",
        "# ao ^TNX uma medida de risco-Brasil, como o CDS ou o EMBI+Brasil\n",
        "# Atenção: NUNCA NUNCA NUNCA usar Selic como taxa livre de risco no Brasil\n",
        "  # 1. Brasil já teve moratória\n",
        "  # 2. Selic é a taxa de curto prazo; pode-se, porém, usar alguma taxa pré-fixada longa do Tesouro Direto,\n",
        "      # que pode ser encontrada no site do Tesouro Transparente\n",
        "\n",
        "# Coletando os dados do yield (retorno) tesouro norte-americano de 10 anos\n",
        "dfTesouroUS = yf.download(tickers='^TNX', start=\"2010-02-01\", interval='1d')\n",
        "dfTesouroUS = dfTesouroUS[[\"Adj Close\"]].copy()  # apenas dados do fechamento ajustado\n",
        "\n",
        "# Resultado\n",
        "dfTesouroUS.head()"
      ],
      "metadata": {
        "id": "yrO2WuoIH4ly"
      },
      "execution_count": null,
      "outputs": []
    },
    {
      "cell_type": "code",
      "source": [
        "## Os dados acima estão em % anuais: em 1º de fevereiro de 2010, o título\n",
        "## estava pagando cerca de 3,654% ao ano\n",
        "# Dividindo por 100 para deixar a porcentagem no formato numérico\n",
        "dfTesouroUS[\"Adj Close\"] = dfTesouroUS[\"Adj Close\"] / 100\n",
        "\n",
        "## Por fim, precisamos mensalizar os retornos anuais\n",
        "## Faremos isso tirando a raiz decima segunda!\n",
        "dfTesouroUS[\"Adj Close\"] = (1 + dfTesouroUS[\"Adj Close\"]) ** (1 / 12) - 1\n",
        "\n",
        "# Vendo resultado\n",
        "dfTesouroUS.head()\n",
        "\n",
        "# Pagar 3,65% a.a. -> pagar 0,29% a.m. (levando em conta juros compostos)"
      ],
      "metadata": {
        "id": "6iDI-WkRJMz7"
      },
      "execution_count": null,
      "outputs": []
    },
    {
      "cell_type": "code",
      "source": [
        "## Vamos calcular o Índice de Sharpe!\n",
        "# Médias e desvio-padrão de cada coluna\n",
        "vMedias = np.array(np.mean(dfRetornos, axis=0))\n",
        "vDesvPads = np.array(np.std(dfRetornos, axis=0))\n",
        "\n",
        "# Taxa livre de risco\n",
        "nTaxaLivreRisco = np.array(np.mean(dfTesouroUS[\"Adj Close\"]))\n",
        "print(f\"TLR: {100 * np.around(nTaxaLivreRisco, 4)}% ao mês.\")\n",
        "\n",
        "# Criando DataFrame\n",
        "dfSharpe = pd.DataFrame(\n",
        "    data=(vMedias - nTaxaLivreRisco) / vDesvPads,\n",
        "    columns=[\"Índice_Sharpe\"],\n",
        "    index=dfRetornos.columns\n",
        ")\n",
        "dfSharpe"
      ],
      "metadata": {
        "id": "vlOnRhuv248K"
      },
      "execution_count": null,
      "outputs": []
    },
    {
      "cell_type": "markdown",
      "source": [
        "A ação de pior retorno ajustado ao risco é a IBM, uma vez que seu retorno é muito baixo (cerca de 2/3 o da PBR).\n",
        "\n",
        "A melhor ação é a AAPL, enquanto o ^GSPC (S&P500) se mostra uma boa opção: menor retorno, mas também menor risco."
      ],
      "metadata": {
        "id": "WF-uC47t6b0p"
      }
    },
    {
      "cell_type": "markdown",
      "source": [
        "Em Finanças mais avançadas, tem-se por objetivo escolher uma carteira de investimentos com composições e montante investido que maximiza o Índice de Sharpe (maximiza o retorno levando em contas os riscos).\n",
        "Na área de finanças quantitativas, essa é conhecida como a **carteira tangente**."
      ],
      "metadata": {
        "id": "od09NmYF7ElC"
      }
    },
    {
      "cell_type": "markdown",
      "source": [
        "## CAPM"
      ],
      "metadata": {
        "id": "yKRmDdPWNnsX"
      }
    },
    {
      "cell_type": "markdown",
      "source": [
        "O Índice de Sharpe analisa como se dá a escolha de investimento e da carteira de um investidor, dadas as informações sobre o preço e o retorno dos ativos.\n",
        "\n",
        "Por sua vez, o **CAPM**, como o nome diz, a analisa como os ativos de capital e os seus retornos esperados são **precificados**."
      ],
      "metadata": {
        "id": "ktfVvCkDcl5l"
      }
    },
    {
      "cell_type": "markdown",
      "source": [
        "Além de ser usado para escolhas de investimento, o CAPM é usado para fornecer taxas de retorno de referência e taxas de desconto para a avaliação de possíveis de investimentos e regulações. \n",
        "\n",
        "De fato, o Ministério da Economia usa uma metodologia modificada do CAPM para a [precificação e leilão de concessões públicas]( https://www.gov.br/fazenda/pt-br/centrais-de-conteudos/publicacoes/guias-e-manuais/metodologia-de-calculo-do-wacc2018.pdf/view)."
      ],
      "metadata": {
        "id": "vr5k43cLdE6y"
      }
    },
    {
      "cell_type": "markdown",
      "source": [
        "Matematicamente, a equação fundamental do CAPM é:\n",
        "\n",
        "\\begin{align*}\n",
        "E(R_{it}) = \\alpha_i^* r_f + \\beta_i [E(R_M) - r_f],\n",
        "\\end{align*}\n",
        "\n",
        "onde $E(R_{it})$ é o retorno esperado do ativo $i$ no período $t$, $r_f$ é a taxa livre de risco e $E(R_M)$ é o retorno do mercado (dado pelo índice S&P500 ou pelo IBOVESPA no Brasil).\n",
        "\n",
        "Pode-se mostrar que o parâmetro $\\beta_i$ pode ser encontrado via um estimador de mínimos quadrados ordinários, ou seja, ele é da forma\n",
        "\n",
        "\\begin{align*}\n",
        "\\beta_i = \\frac{Cov(R_{it}, R_M)}{Var(R_M)}\n",
        "\\end{align*}"
      ],
      "metadata": {
        "id": "1WhCTGT8ekmr"
      }
    },
    {
      "cell_type": "markdown",
      "source": [
        "Intuitivamente, a equação do CAPM diz que o preço esperado de um ativo é formado a partir de três componentes:\n",
        "\n",
        "- O *preço do tempo*, dado por $r_f$. Como, em tese, o ativo livre de risco não possui risco, seu custo e retorno estão inteiramente ligados à perda de liquidez por parte do investidor;\n",
        "\n",
        "- O *excesso de retorno do mercado de ativos*, dado por $E(R_M) - r_f$;\n",
        "\n",
        "- A *quantidade do risco*, dada por $\\beta_i$."
      ],
      "metadata": {
        "id": "JOzv1JKIqeEK"
      }
    },
    {
      "cell_type": "markdown",
      "source": [
        "Por fim, $\\alpha_i^*$ é um parâmetro que mede o quanto o valor esperado do retorno é maior que o predito pelo CAPM. Se $\\alpha_i^* > 0$, o preço estaria mais baixo e valeria a pena comprar o ativo."
      ],
      "metadata": {
        "id": "UzM7PyGWsJMI"
      }
    },
    {
      "cell_type": "markdown",
      "source": [
        "### Correlação entre Retornos Individuais e do Mercado"
      ],
      "metadata": {
        "id": "ijGeFICq62vU"
      }
    },
    {
      "cell_type": "code",
      "source": [
        "## Vendo a relação dos retornos da AAPL com os retornos de mercado\n",
        "sns.regplot(x=\"^GSPC\", y=\"AAPL\", data=dfRetornos)"
      ],
      "metadata": {
        "id": "OMD5PCTQ6YEv"
      },
      "execution_count": null,
      "outputs": []
    },
    {
      "cell_type": "code",
      "source": [
        "## Vendo a relação do PBR com os retornos de mercado\n",
        "# Note com a reta é menos inclinada\n",
        "sns.regplot(x=\"^GSPC\", y=\"PBR\", data=dfRetornos)"
      ],
      "metadata": {
        "colab": {
          "base_uri": "https://localhost:8080/",
          "height": 299
        },
        "id": "0JkAXwMn7yZ7",
        "outputId": "ff6ab243-7900-437b-cef3-bc1a6260b87d"
      },
      "execution_count": null,
      "outputs": [
        {
          "output_type": "execute_result",
          "data": {
            "text/plain": [
              "<matplotlib.axes._subplots.AxesSubplot at 0x7f5089049b90>"
            ]
          },
          "metadata": {},
          "execution_count": 26
        },
        {
          "output_type": "display_data",
          "data": {
            "image/png": "[encoded data removed]",
            "text/plain": [
              "<Figure size 432x288 with 1 Axes>"
            ]
          },
          "metadata": {}
        }
      ]
    },
    {
      "cell_type": "markdown",
      "source": [
        "OBS: geralmente, ativos ditos *de proteção* possuem uma correlação com o mercado ($\\beta_i$) negativa, como é o caso do ouro e da prata."
      ],
      "metadata": {
        "id": "duy0-Y30zvYA"
      }
    },
    {
      "cell_type": "markdown",
      "source": [
        "### Estimando Equações do CAPM"
      ],
      "metadata": {
        "id": "JqjTtXZlsq4s"
      }
    },
    {
      "cell_type": "code",
      "source": [
        "## Primeiramente, nossos dados de ações estão em intervalos mensais,\n",
        "## enquanto nossa taxa livre de risco está em intervalos diários\n",
        "\n",
        "## Vamos pegar a média mensal dos yields do tesouro americano\n",
        "# Coluna de Mês e Ano\n",
        "dfTesouroUS[\"Mes_Ano\"] = dfTesouroUS.index.to_period('M')\n",
        "\n",
        "# Taxa média por mês\n",
        "dfTesouroUSMensal = dfTesouroUS.groupby(\"Mes_Ano\")[[\"Adj Close\"]].mean()\n",
        "\n",
        "# Renomeando\n",
        "dfTesouroUSMensal.rename(columns={\"Adj Close\": \"T10y\"}, inplace=True)"
      ],
      "metadata": {
        "id": "de629s9Q75tT"
      },
      "execution_count": null,
      "outputs": []
    },
    {
      "cell_type": "code",
      "source": [
        "## Resultado\n",
        "dfTesouroUSMensal.head()"
      ],
      "metadata": {
        "id": "NXdmwFPxs8wv"
      },
      "execution_count": null,
      "outputs": []
    },
    {
      "cell_type": "code",
      "source": [
        "## Juntando ao DataFrame de retornos\n",
        "dfRetornos1 = pd.concat((dfRetornos.reset_index(), dfTesouroUSMensal.reset_index()), axis=1)\n",
        "dfRetornos1"
      ],
      "metadata": {
        "id": "tQRhF-yts9oT"
      },
      "execution_count": null,
      "outputs": []
    },
    {
      "cell_type": "code",
      "source": [
        "## Para deixar consistente, vamos retirar a última linha\n",
        "dfRetornos1.dropna(axis=0, inplace=True)"
      ],
      "metadata": {
        "id": "KZrMEp53wSGg"
      },
      "execution_count": null,
      "outputs": []
    },
    {
      "cell_type": "code",
      "source": [
        "## Coluna de excesso de retorno\n",
        "dfRetornos1[\"ExcessoRetornoMercado\"] = dfRetornos1[\"^GSPC\"] - dfRetornos1[\"T10y\"]\n",
        "\n",
        "## Resultado\n",
        "dfRetornos1"
      ],
      "metadata": {
        "id": "WKCa64hZxw5b"
      },
      "execution_count": null,
      "outputs": []
    },
    {
      "cell_type": "code",
      "source": [
        "## Criando formula para o CAPM\n",
        "sAcaoVarDependente = \"AAPL\"\n",
        "formula_capm = f\"{sAcaoVarDependente} ~ 1 + T10y + ExcessoRetornoMercado\"\n",
        "\n",
        "## Modelo com covariância robusta\n",
        "modelo_capm = ols(formula=formula_capm, data=dfRetornos1).fit(\n",
        "    cov_type='HC1',\n",
        "    use_t=True\n",
        ")\n",
        "\n",
        "## Sumário\n",
        "print(modelo_capm.summary())\n",
        "\n",
        "# Como a taxa livre de risco tende a ser pequena e sofrer pouca variação,\n",
        "# ela é insignificante e poderia ser retirada do modelo para evitar multicolinearidade\n",
        "# com o componente de excesso (o statsmodels até dá um aviso de que há esse problema)\n",
        "\n",
        "# O intercepto, que capta o termo alfa, é insignificante; \n",
        "# na média, a ação não está sobre/subvalorizada e o CAPM parece ser um bom modelo\n",
        "# para explicar seu preço\n",
        "\n",
        "\n",
        "# No caso da AAPL, seu Beta é de 1,1 e é maior que 1; logo, ela reage mais que proporcionalmente ao mercado"
      ],
      "metadata": {
        "id": "PFdfk9wnxMEF"
      },
      "execution_count": null,
      "outputs": []
    },
    {
      "cell_type": "markdown",
      "source": [
        "O CAPM ainda é capaz de ser utilizado para explicar a formação de preços de ativos, como vimos acima.\n",
        "\n",
        "Contudo, fica a ressalva de que existem modelos mais complexos que levam em consideração impostos, custos de transação, assimetrias de informação e irraconalidade (comportamentos de manada, por exemplo)."
      ],
      "metadata": {
        "id": "IL_r5eNczMFb"
      }
    },
    {
      "cell_type": "markdown",
      "source": [
        "## Análise da Bolsa Brasileira"
      ],
      "metadata": {
        "id": "zlpCm1V24LA5"
      }
    },
    {
      "cell_type": "markdown",
      "source": [
        "### Dados"
      ],
      "metadata": {
        "id": "MbYIZEIZ7U4x"
      }
    },
    {
      "cell_type": "code",
      "source": [
        "## Baixando os dados dos últimos 12 anos (12y) por mês (1mo)\n",
        "# ^BVSP: índice IBOVESPA, que capta as principais ações do mercado brasileiro\n",
        "# ITSA3: Itaú (3: ação ordinária; 4: preferencial)\n",
        "# PETR3: Petrobras (listada na bolsa brasileira)\n",
        "# SGPS3: Springs Global (varejo)\n",
        "# GOLL: gol linhas aéreas\n",
        "# MGLU: Magazine Luiza\n",
        "# .SA: sociedade aberta\n",
        "dataBrasil = yf.download(tickers='^BVSP ITSA3.SA PETR3.SA SGPS3.SA GOLL4.SA MGLU3.SA', \n",
        "                         period='12y', interval='1mo', group_by='ticker')\n",
        "\n",
        "# Vendo o DataFrame\n",
        "dataBrasil"
      ],
      "metadata": {
        "id": "TSPItnxY4KZt"
      },
      "execution_count": null,
      "outputs": []
    },
    {
      "cell_type": "code",
      "source": [
        "#### Limpando o DataFrame seguindo o mesmo procedimento acima\n",
        "## Retirando linhas com valores nulos\n",
        "dataBrasil.dropna(axis=0, inplace=True)\n",
        "\n",
        "## Pegando apenas Adj Close\n",
        "dataBrasil = dataBrasil.stack(level=1).rename_axis(['Data', 'Preço'])\n",
        "dataBrasil.query(\"Preço == 'Adj Close'\", inplace=True)\n",
        "\n",
        "## Por fim, vamos droppar o index de preço\n",
        "dataBrasil = dataBrasil.droplevel(level=1)\n",
        "\n",
        "# Resultado\n",
        "dataBrasil"
      ],
      "metadata": {
        "id": "2NtjZALk4KX6"
      },
      "execution_count": null,
      "outputs": []
    },
    {
      "cell_type": "code",
      "source": [
        "## Plottando (deixando de fora o BVSP porque ele está fora de escala)\n",
        "dataBrasil[[\"ITSA3.SA\", \"PETR3.SA\", \"SGPS3.SA\", \"GOLL4.SA\", \"MGLU3.SA\"]].plot()\n",
        "\n",
        "# MGLU3 teve uma subida de preço gigante, mas começou a cair a partir de meados de 2021\n",
        "# GOLL3 sofreu emais com a pandemia, enquanto PETR3 já se recuperou"
      ],
      "metadata": {
        "id": "uNTafnYT4KVJ"
      },
      "execution_count": null,
      "outputs": []
    },
    {
      "cell_type": "markdown",
      "source": [
        "### Retornos"
      ],
      "metadata": {
        "id": "Wmg3fOMW7S88"
      }
    },
    {
      "cell_type": "code",
      "source": [
        "## Calculando os retornos percentuais de cada ação\n",
        "# dropna(): excluindo o valor nulo da primeira data\n",
        "dfRetornosBrasil = dataBrasil.pct_change().dropna()\n",
        "\n",
        "## Vendo resultado\n",
        "dfRetornosBrasil"
      ],
      "metadata": {
        "id": "22utEOSh4KTH"
      },
      "execution_count": null,
      "outputs": []
    },
    {
      "cell_type": "code",
      "source": [
        "## Estatisticas descritivas\n",
        "dfRetornosBrasil.describe()\n",
        "\n",
        "# GOLL4 e MGLU são as mais voláteis\n",
        "# MGLU já chegou a quase dobrar de preço em mês\n",
        "# GOL e SGPS já perderam mais da metade do valor em um mês"
      ],
      "metadata": {
        "id": "n24Cllca4KQ0"
      },
      "execution_count": null,
      "outputs": []
    },
    {
      "cell_type": "code",
      "source": [
        "## Calculando os retornos cumulativos de cada ação usando o cumprod() (cumulative product)\n",
        "# EUA\n",
        "dfRetornosCumulativos = (1 + dfRetornos).cumprod() - 1\n",
        "\n",
        "# Brasil\n",
        "dfRetornosCumulativosBrasil = (1 + dfRetornosBrasil).cumprod() - 1\n",
        "\n",
        "# Resultado\n",
        "dfRetornosCumulativosBrasil.tail()"
      ],
      "metadata": {
        "id": "af4aD3Q94KOu"
      },
      "execution_count": null,
      "outputs": []
    },
    {
      "cell_type": "code",
      "source": [
        "## Plottando Brasil\n",
        "dfRetornosCumulativosBrasil.plot()\n",
        "\n",
        "# Bem... investir no MGLU3 em 2010 talvez fosse uma boa; o dinheiro teria multiplicado em mais de 50x no topo!"
      ],
      "metadata": {
        "id": "hsZ5GYX24KK1"
      },
      "execution_count": null,
      "outputs": []
    },
    {
      "cell_type": "code",
      "source": [
        "# Plottando EUA\n",
        "dfRetornosCumulativos.plot()"
      ],
      "metadata": {
        "id": "KOoFp23fBMHJ"
      },
      "execution_count": null,
      "outputs": []
    },
    {
      "cell_type": "code",
      "source": [
        "## Comparando os retornos da bolsa brasileira (^BVSP) e da americana (^GSPC) desde 2010\n",
        "dfRetornosBolsas = dfRetornosCumulativos.merge(dfRetornosCumulativosBrasil, how=\"inner\", left_index=True, right_index=True)\n",
        "\n",
        "# Selecionando apenas os índices\n",
        "dfRetornosBolsasIndices = dfRetornosBolsas[[\"^GSPC\", \"^BVSP\"]].copy()\n",
        "\n",
        "# Plottando\n",
        "dfRetornosBolsasIndices.plot()\n",
        "\n",
        "# Vendo valores do último mês\n",
        "dfRetornosBolsasIndices.tail(1)\n",
        "\n",
        "# Desde 2010, a bolsa brasileira rendeu cerca de 73% (investiu 100, tá com 173)\n",
        "# A bolsa americana, por sua vez, rendeu 334% (investiu 100, tá com 434)\n",
        "# Brasil estagnado, principalmente no pós-pandemia (veja a inclinação das curvas)\n",
        "\n",
        "# Lembrando: os preços de ações são formados a partir de expectativas; se o índice brasileiro\n",
        "# não subiu tanto quanto o americano, os investidores não esperam bom desenho da nossa economia\n",
        "# no futuro próximo"
      ],
      "metadata": {
        "id": "RAbfY_su4KIr"
      },
      "execution_count": null,
      "outputs": []
    },
    {
      "cell_type": "markdown",
      "source": [
        "### Índice de Sharpe"
      ],
      "metadata": {
        "id": "ZBsOyfXwBZvh"
      }
    },
    {
      "cell_type": "code",
      "source": [
        "## Precisamos da taxa livre de risco brasileira; como vimos acima, podemos adicionar\n",
        "## uma medida de risco-país a taxa livre de risco americana, que é o que faremos aqui\n",
        "\n",
        "## Vamos usar o EMBI+, coletado a partir do site do ipeadata (http://www.ipeadata.gov.br/ExibeSerie.aspx?serid=40940&module=M)\n",
        "## Ele é medido em pontos-base (100 pb = 1%); por isso, vamos dividi-lo por 10.000 posteriormente\n",
        "dfEMBI = ipeadatapy.timeseries('JPM366_EMBI366', yearGreaterThan=2010)\n",
        "dfEMBI"
      ],
      "metadata": {
        "id": "aisSCT_NBZfr"
      },
      "execution_count": null,
      "outputs": []
    },
    {
      "cell_type": "code",
      "source": [
        "## Pegando apenas as colunas relevantes\n",
        "# Criando uma coluna de Mes_Ano\n",
        "dfEMBI[\"Mes_Ano\"] = dfEMBI.index.to_period('M')\n",
        "\n",
        "# Selecionando colunas relevantes\n",
        "dfEMBI = dfEMBI[[\"Mes_Ano\", \"VALUE (-)\"]].copy()\n",
        "\n",
        "## Renomeando coluna de valor e dividindo por 10000\n",
        "dfEMBI.rename(columns={\"VALUE (-)\":\"EMBI\"}, inplace=True)\n",
        "dfEMBI[\"EMBI\"] = dfEMBI[\"EMBI\"] / 10000\n",
        "\n",
        "## Droppando nans\n",
        "dfEMBI.dropna(axis=0, inplace=True)\n",
        "\n",
        "## Resultado\n",
        "dfEMBI\n",
        "\n",
        "# Em 2011, o risco Braisl era de 1,81% a.a. (ou seja, para valer a pena para um\n",
        "# investidor internacional investir aqui, ele teria de receber 1,81% a mais\n",
        "# do que nos EUA para compensar o risco)"
      ],
      "metadata": {
        "id": "L2o0RZLaBZZ3"
      },
      "execution_count": null,
      "outputs": []
    },
    {
      "cell_type": "code",
      "source": [
        "## Comportamento do risco país\n",
        "dfEMBI[[\"EMBI\"]].plot()"
      ],
      "metadata": {
        "id": "cxCPosg7BZXn"
      },
      "execution_count": null,
      "outputs": []
    },
    {
      "cell_type": "code",
      "source": [
        "## Vamos mensalizar a taxa do EMBI\n",
        "dfEMBI[\"EMBI\"] = (1 + dfEMBI[\"EMBI\"]) ** (1 / 12) - 1\n",
        "\n",
        "## Vamos pegar a média mensal para somar yields do tesouro americano\n",
        "dfEMBIMensal = dfEMBI.groupby(\"Mes_Ano\")[[\"EMBI\"]].mean()\n",
        "\n",
        "## Juntando ao dataframe com os dados mensais do tesouro americano\n",
        "dfTesouroUSEMBI = dfEMBIMensal.merge(dfTesouroUSMensal, how=\"inner\", on=\"Mes_Ano\")\n",
        "\n",
        "dfTesouroUSEMBI"
      ],
      "metadata": {
        "id": "gjmB_WprFskI"
      },
      "execution_count": null,
      "outputs": []
    },
    {
      "cell_type": "code",
      "source": [
        "## Como nossos dados de retornos começam em julho de 2011, vamos pegar apenas esses dados\n",
        "dfTesouroUSEMBI.query(\"Mes_Ano > '2011-06'\", inplace=True)\n",
        "\n",
        "## Somando as taxas\n",
        "dfTesouroUSEMBI[\"TLR_Brasil\"] = dfTesouroUSEMBI[\"T10y\"] + dfTesouroUSEMBI[\"EMBI\"]\n",
        "\n",
        "## Resultado\n",
        "dfTesouroUSEMBI"
      ],
      "metadata": {
        "id": "kPkDPWu_HLNv"
      },
      "execution_count": null,
      "outputs": []
    },
    {
      "cell_type": "code",
      "source": [
        "## Vamos calcular o Índice de Sharpe!\n",
        "# Médias e desvio-padrão de cada coluna\n",
        "vMedias = np.array(np.mean(dfRetornosBrasil, axis=0))\n",
        "vDesvPads = np.array(np.std(dfRetornosBrasil, axis=0))\n",
        "\n",
        "# Taxa livre de risco\n",
        "nTaxaLivreRisco = np.array(np.mean(dfTesouroUSEMBI[\"TLR_Brasil\"]))\n",
        "print(f\"TLR: {100 * np.around(nTaxaLivreRisco, 4)}% ao mês.\")\n",
        "\n",
        "# Criando DataFrame\n",
        "dfSharpe = pd.DataFrame(\n",
        "    data=(vMedias - nTaxaLivreRisco) / vDesvPads,\n",
        "    columns=[\"Índice_Sharpe\"],\n",
        "    index=dfRetornosBrasil.columns\n",
        ")\n",
        "dfSharpe\n",
        "\n",
        "# MGLU ainda é de longe a melhor, seguida pela GOLL (apesar de volátil, tem um retorno médio grande)"
      ],
      "metadata": {
        "id": "ZTI82h5c4KE8"
      },
      "execution_count": null,
      "outputs": []
    },
    {
      "cell_type": "code",
      "source": [
        "## Relembrando estatísticas\n",
        "dfRetornosBrasil.describe()"
      ],
      "metadata": {
        "id": "FD0dxBo_4KCS"
      },
      "execution_count": null,
      "outputs": []
    },
    {
      "cell_type": "markdown",
      "source": [
        "### CAPM"
      ],
      "metadata": {
        "id": "k43siMmbIKES"
      }
    },
    {
      "cell_type": "code",
      "source": [
        "## Correlação entre ativo e a BOVESPA\n",
        "sAcaoBrasil = \"MGLU3.SA\"\n",
        "\n",
        "sns.regplot(x=\"^BVSP\", y=\"MGLU3.SA\", data=dfRetornosBrasil)"
      ],
      "metadata": {
        "id": "lO1DMlTDIJ3Y"
      },
      "execution_count": null,
      "outputs": []
    },
    {
      "cell_type": "code",
      "source": [
        "## Juntando a taxa livre de risco ao DataFrame de retornos\n",
        "dfRetornosBrasil = pd.concat((dfRetornosBrasil.reset_index(), dfTesouroUSEMBI.reset_index()), axis=1)\n",
        "\n",
        "## Coluna de excesso de retorno\n",
        "dfRetornosBrasil[\"ExcessoRetornoMercado\"] = dfRetornosBrasil[\"^BVSP\"] - dfRetornosBrasil[\"TLR_Brasil\"]\n",
        "\n",
        "## Resultado\n",
        "dfRetornosBrasil"
      ],
      "metadata": {
        "id": "B5c4zu9DIJ1I"
      },
      "execution_count": null,
      "outputs": []
    },
    {
      "cell_type": "code",
      "source": [
        "## Retirando os .SA das colunas (atrapalha na escrita da fórmula)\n",
        "dfRetornosBrasil.rename(columns={\n",
        "    \"GOLL4.SA\":\"GOLL4\",\n",
        "    \"ITSA3.SA\":\"ITSA3\",\n",
        "    \"MGLU3.SA\":\"MGLU3\",\n",
        "    \"PETR3.SA\":\"PETR3\",\n",
        "    \"SGPS3.SA\":\"SGPS3\"\n",
        "}, inplace=True)"
      ],
      "metadata": {
        "id": "tv_lfAaxJbEf"
      },
      "execution_count": null,
      "outputs": []
    },
    {
      "cell_type": "code",
      "source": [
        "## Criando formula para o CAPM\n",
        "# Dessa vez, vamos deixar de fora o componente da taxa livre de risco (insignificante e causa multicolinearidade)\n",
        "sAcaoVarDependente = \"ITSA3\"\n",
        "formula_capm = f\"{sAcaoVarDependente} ~ 1 + ExcessoRetornoMercado\"\n",
        "\n",
        "## Modelo com covariância robusta\n",
        "modelo_capm = ols(formula=formula_capm, data=dfRetornosBrasil).fit(\n",
        "    cov_type='HC1',\n",
        "    use_t=True\n",
        ")\n",
        "\n",
        "## Sumário\n",
        "print(modelo_capm.summary())\n",
        "\n",
        "# No caso da ITSA, o CAPM é bom em prever seu preço (intercepto negativo) e seu Beta é de 0,78\n",
        "# (reage menos proporcionalmente ao mercado). No caso da MGLU, é o contrário: Beta é maior que um (1,22),\n",
        "# ou seja, ela reage mais que proporcionalmente aos retornos do mercado"
      ],
      "metadata": {
        "id": "_VAnL0tIIJyM"
      },
      "execution_count": null,
      "outputs": []
    },
    {
      "cell_type": "markdown",
      "source": [
        "# Obrigado!"
      ],
      "metadata": {
        "id": "neAGVnnEzhqt"
      }
    }
  ],
  "metadata": {
    "colab": {
      "collapsed_sections": [],
      "name": "Aula_2021_12_14_CAPM (1).ipynb",
      "provenance": [],
      "include_colab_link": true
    },
    "kernelspec": {
      "display_name": "Python 3",
      "name": "python3"
    },
    "language_info": {
      "codemirror_mode": {
        "name": "ipython",
        "version": 3
      },
      "file_extension": ".py",
      "mimetype": "text/x-python",
      "name": "python",
      "nbconvert_exporter": "python",
      "pygments_lexer": "ipython3",
      "version": "3.8.10"
    }
  },
  "nbformat": 4,
  "nbformat_minor": 0
}