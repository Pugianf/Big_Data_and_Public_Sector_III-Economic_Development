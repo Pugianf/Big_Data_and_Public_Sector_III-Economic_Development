{
  "cells": [
    {
      "cell_type": "markdown",
      "metadata": {
        "id": "view-in-github",
        "colab_type": "text"
      },
      "source": [
        "<a href=\"https://colab.research.google.com/github/Pugianf/Big_Data_and_Public_Sector_III-Economic_Development/blob/main/Aula_7_2021_12_16_ModelosBinarios.ipynb\" target=\"_parent\"><img src=\"https://colab.research.google.com/assets/colab-badge.svg\" alt=\"Open In Colab\"/></a>"
      ]
    },
    {
      "cell_type": "markdown",
      "metadata": {
        "id": "ue3atmYDsrgK"
      },
      "source": [
        "# Modelos de Resposta Binária: **Estimando Probabilidades**\n",
        "\n",
        "Qual o impacto de um ano adicional de estudo na decisão da mulher de entrar (=1) ou não (=0) na força de trabalho? Há diferença na magnitude do impacto entre se obter um ensino fundamental e concluir uma graduação?\n",
        "\n",
        "E do número de filhos? Há diferença entre filhos pequenos e aqueles com mais idade? E entre o 1º filho e o 4º?\n",
        "\n",
        "\n",
        "\n",
        "----"
      ]
    },
    {
      "cell_type": "markdown",
      "metadata": {
        "id": "Yf7lWKcVjC3E"
      },
      "source": [
        "## Leitura dos Dados"
      ]
    },
    {
      "cell_type": "code",
      "execution_count": null,
      "metadata": {
        "id": "wrR02oUkRkAB",
        "colab": {
          "base_uri": "https://localhost:8080/",
          "height": 107
        },
        "outputId": "b6685bad-7b0c-40b7-8272-dcb5195fbae6"
      },
      "outputs": [
        {
          "output_type": "stream",
          "name": "stderr",
          "text": [
            "/usr/local/lib/python3.7/dist-packages/statsmodels/tools/_testing.py:19: FutureWarning: pandas.util.testing is deprecated. Use the functions in the public API at pandas.testing instead.\n",
            "  import pandas.util.testing as tm\n"
          ]
        },
        {
          "output_type": "execute_result",
          "data": {
            "application/vnd.google.colaboratory.intrinsic+json": {
              "type": "string"
            },
            "text/plain": [
              "'\\nVamos usar o statsmodels (probit e logit) para os modelos, mas outro\\nmódulo conhecido para executar regressões logísticas, especialmente no\\ncontexto de Machine Learning, é o sklearn (LogisticRegression)\\n'"
            ]
          },
          "metadata": {},
          "execution_count": 1
        }
      ],
      "source": [
        "## Importando o que for necessário\n",
        "# Manipulação de dados\n",
        "import pandas as pd\n",
        "import numpy as np\n",
        "\n",
        "# Testes e regressões\n",
        "from scipy import stats\n",
        "import statsmodels.api as sm\n",
        "import statsmodels.stats.api as sms\n",
        "from statsmodels.formula.api import ols, probit, logit  # modelos binários!\n",
        "\n",
        "# Gráficos\n",
        "import matplotlib.pyplot as plt\n",
        "import seaborn as sns\n",
        "from matplotlib import style\n",
        "\n",
        "style.use('ggplot')  # estilo do R\n",
        "\n",
        "\"\"\"\n",
        "Vamos usar o statsmodels (probit e logit) para os modelos, mas outro\n",
        "módulo conhecido para executar regressões logísticas, especialmente no\n",
        "contexto de Machine Learning, é o sklearn (LogisticRegression)\n",
        "\"\"\""
      ]
    },
    {
      "cell_type": "code",
      "execution_count": null,
      "metadata": {
        "id": "-bhytBXKiwGI"
      },
      "outputs": [],
      "source": [
        "### Montando o Google Drive\n",
        "from google.colab import drive\n",
        "drive.mount('/content/drive')"
      ]
    },
    {
      "cell_type": "code",
      "execution_count": null,
      "metadata": {
        "id": "clixYWPVizo_"
      },
      "outputs": [],
      "source": [
        "## Lendo os dados\n",
        "sCaminho = \"/content/drive/MyDrive/Projetos/IDP/MBA/SetorPublicoIII/Códigos/Aula 7 - 16_12_2021/\"\n",
        "sArquivo = \"mroz.dta\"\n",
        "\n",
        "## Lendo o DataFrame\n",
        "data = pd.read_stata(f\"{sCaminho}{sArquivo}\")\n",
        "\n",
        "# Vendo o tamanho da base\n",
        "print(f\"Linhas: {data.shape[0]}; Colunas: {data.shape[1]}\")"
      ]
    },
    {
      "cell_type": "code",
      "execution_count": null,
      "metadata": {
        "colab": {
          "base_uri": "https://localhost:8080/",
          "height": 363
        },
        "id": "rEDAnNbXg4J9",
        "outputId": "b9172a9e-a18f-4853-d3bf-4063f752e149"
      },
      "outputs": [
        {
          "output_type": "execute_result",
          "data": {
            "text/html": [
              "\n",
              "  <div id=\"df-b72b8b4f-171a-493d-a5fd-577f2487c929\">\n",
              "    <div class=\"colab-df-container\">\n",
              "      <div>\n",
              "<style scoped>\n",
              "    .dataframe tbody tr th:only-of-type {\n",
              "        vertical-align: middle;\n",
              "    }\n",
              "\n",
              "    .dataframe tbody tr th {\n",
              "        vertical-align: top;\n",
              "    }\n",
              "\n",
              "    .dataframe thead th {\n",
              "        text-align: right;\n",
              "    }\n",
              "</style>\n",
              "<table border=\"1\" class=\"dataframe\">\n",
              "  <thead>\n",
              "    <tr style=\"text-align: right;\">\n",
              "      <th></th>\n",
              "      <th>inlf</th>\n",
              "      <th>hours</th>\n",
              "      <th>kidslt6</th>\n",
              "      <th>kidsge6</th>\n",
              "      <th>age</th>\n",
              "      <th>educ</th>\n",
              "      <th>wage</th>\n",
              "      <th>repwage</th>\n",
              "      <th>hushrs</th>\n",
              "      <th>husage</th>\n",
              "      <th>huseduc</th>\n",
              "      <th>huswage</th>\n",
              "      <th>faminc</th>\n",
              "      <th>mtr</th>\n",
              "      <th>motheduc</th>\n",
              "      <th>fatheduc</th>\n",
              "      <th>unem</th>\n",
              "      <th>city</th>\n",
              "      <th>exper</th>\n",
              "      <th>nwifeinc</th>\n",
              "      <th>lwage</th>\n",
              "      <th>expersq</th>\n",
              "    </tr>\n",
              "  </thead>\n",
              "  <tbody>\n",
              "    <tr>\n",
              "      <th>0</th>\n",
              "      <td>1.0</td>\n",
              "      <td>1610.0</td>\n",
              "      <td>1.0</td>\n",
              "      <td>0.0</td>\n",
              "      <td>32.0</td>\n",
              "      <td>12.0</td>\n",
              "      <td>3.3540</td>\n",
              "      <td>2.65</td>\n",
              "      <td>2708.0</td>\n",
              "      <td>34.0</td>\n",
              "      <td>12.0</td>\n",
              "      <td>4.0288</td>\n",
              "      <td>16310.0</td>\n",
              "      <td>0.7215</td>\n",
              "      <td>12.0</td>\n",
              "      <td>7.0</td>\n",
              "      <td>5.0</td>\n",
              "      <td>0.0</td>\n",
              "      <td>14.0</td>\n",
              "      <td>10.910060</td>\n",
              "      <td>1.210154</td>\n",
              "      <td>196.0</td>\n",
              "    </tr>\n",
              "    <tr>\n",
              "      <th>1</th>\n",
              "      <td>1.0</td>\n",
              "      <td>1656.0</td>\n",
              "      <td>0.0</td>\n",
              "      <td>2.0</td>\n",
              "      <td>30.0</td>\n",
              "      <td>12.0</td>\n",
              "      <td>1.3889</td>\n",
              "      <td>2.65</td>\n",
              "      <td>2310.0</td>\n",
              "      <td>30.0</td>\n",
              "      <td>9.0</td>\n",
              "      <td>8.4416</td>\n",
              "      <td>21800.0</td>\n",
              "      <td>0.6615</td>\n",
              "      <td>7.0</td>\n",
              "      <td>7.0</td>\n",
              "      <td>11.0</td>\n",
              "      <td>1.0</td>\n",
              "      <td>5.0</td>\n",
              "      <td>19.499981</td>\n",
              "      <td>0.328512</td>\n",
              "      <td>25.0</td>\n",
              "    </tr>\n",
              "    <tr>\n",
              "      <th>2</th>\n",
              "      <td>1.0</td>\n",
              "      <td>1980.0</td>\n",
              "      <td>1.0</td>\n",
              "      <td>3.0</td>\n",
              "      <td>35.0</td>\n",
              "      <td>12.0</td>\n",
              "      <td>4.5455</td>\n",
              "      <td>4.04</td>\n",
              "      <td>3072.0</td>\n",
              "      <td>40.0</td>\n",
              "      <td>12.0</td>\n",
              "      <td>3.5807</td>\n",
              "      <td>21040.0</td>\n",
              "      <td>0.6915</td>\n",
              "      <td>12.0</td>\n",
              "      <td>7.0</td>\n",
              "      <td>5.0</td>\n",
              "      <td>0.0</td>\n",
              "      <td>15.0</td>\n",
              "      <td>12.039910</td>\n",
              "      <td>1.514138</td>\n",
              "      <td>225.0</td>\n",
              "    </tr>\n",
              "    <tr>\n",
              "      <th>3</th>\n",
              "      <td>1.0</td>\n",
              "      <td>456.0</td>\n",
              "      <td>0.0</td>\n",
              "      <td>3.0</td>\n",
              "      <td>34.0</td>\n",
              "      <td>12.0</td>\n",
              "      <td>1.0965</td>\n",
              "      <td>3.25</td>\n",
              "      <td>1920.0</td>\n",
              "      <td>53.0</td>\n",
              "      <td>10.0</td>\n",
              "      <td>3.5417</td>\n",
              "      <td>7300.0</td>\n",
              "      <td>0.7815</td>\n",
              "      <td>7.0</td>\n",
              "      <td>7.0</td>\n",
              "      <td>5.0</td>\n",
              "      <td>0.0</td>\n",
              "      <td>6.0</td>\n",
              "      <td>6.799996</td>\n",
              "      <td>0.092123</td>\n",
              "      <td>36.0</td>\n",
              "    </tr>\n",
              "    <tr>\n",
              "      <th>4</th>\n",
              "      <td>1.0</td>\n",
              "      <td>1568.0</td>\n",
              "      <td>1.0</td>\n",
              "      <td>2.0</td>\n",
              "      <td>31.0</td>\n",
              "      <td>14.0</td>\n",
              "      <td>4.5918</td>\n",
              "      <td>3.60</td>\n",
              "      <td>2000.0</td>\n",
              "      <td>32.0</td>\n",
              "      <td>12.0</td>\n",
              "      <td>10.0000</td>\n",
              "      <td>27300.0</td>\n",
              "      <td>0.6215</td>\n",
              "      <td>12.0</td>\n",
              "      <td>14.0</td>\n",
              "      <td>9.5</td>\n",
              "      <td>1.0</td>\n",
              "      <td>7.0</td>\n",
              "      <td>20.100060</td>\n",
              "      <td>1.524272</td>\n",
              "      <td>49.0</td>\n",
              "    </tr>\n",
              "    <tr>\n",
              "      <th>5</th>\n",
              "      <td>1.0</td>\n",
              "      <td>2032.0</td>\n",
              "      <td>0.0</td>\n",
              "      <td>0.0</td>\n",
              "      <td>54.0</td>\n",
              "      <td>12.0</td>\n",
              "      <td>4.7421</td>\n",
              "      <td>4.70</td>\n",
              "      <td>1040.0</td>\n",
              "      <td>57.0</td>\n",
              "      <td>11.0</td>\n",
              "      <td>6.7106</td>\n",
              "      <td>19495.0</td>\n",
              "      <td>0.6915</td>\n",
              "      <td>14.0</td>\n",
              "      <td>7.0</td>\n",
              "      <td>7.5</td>\n",
              "      <td>1.0</td>\n",
              "      <td>33.0</td>\n",
              "      <td>9.859054</td>\n",
              "      <td>1.556480</td>\n",
              "      <td>1089.0</td>\n",
              "    </tr>\n",
              "    <tr>\n",
              "      <th>6</th>\n",
              "      <td>1.0</td>\n",
              "      <td>1440.0</td>\n",
              "      <td>0.0</td>\n",
              "      <td>2.0</td>\n",
              "      <td>37.0</td>\n",
              "      <td>16.0</td>\n",
              "      <td>8.3333</td>\n",
              "      <td>5.95</td>\n",
              "      <td>2670.0</td>\n",
              "      <td>37.0</td>\n",
              "      <td>12.0</td>\n",
              "      <td>3.4277</td>\n",
              "      <td>21152.0</td>\n",
              "      <td>0.6915</td>\n",
              "      <td>14.0</td>\n",
              "      <td>7.0</td>\n",
              "      <td>5.0</td>\n",
              "      <td>0.0</td>\n",
              "      <td>11.0</td>\n",
              "      <td>9.152048</td>\n",
              "      <td>2.120260</td>\n",
              "      <td>121.0</td>\n",
              "    </tr>\n",
              "    <tr>\n",
              "      <th>7</th>\n",
              "      <td>1.0</td>\n",
              "      <td>1020.0</td>\n",
              "      <td>0.0</td>\n",
              "      <td>0.0</td>\n",
              "      <td>54.0</td>\n",
              "      <td>12.0</td>\n",
              "      <td>7.8431</td>\n",
              "      <td>9.98</td>\n",
              "      <td>4120.0</td>\n",
              "      <td>53.0</td>\n",
              "      <td>8.0</td>\n",
              "      <td>2.5485</td>\n",
              "      <td>18900.0</td>\n",
              "      <td>0.6915</td>\n",
              "      <td>3.0</td>\n",
              "      <td>3.0</td>\n",
              "      <td>5.0</td>\n",
              "      <td>0.0</td>\n",
              "      <td>35.0</td>\n",
              "      <td>10.900040</td>\n",
              "      <td>2.059634</td>\n",
              "      <td>1225.0</td>\n",
              "    </tr>\n",
              "    <tr>\n",
              "      <th>8</th>\n",
              "      <td>1.0</td>\n",
              "      <td>1458.0</td>\n",
              "      <td>0.0</td>\n",
              "      <td>2.0</td>\n",
              "      <td>48.0</td>\n",
              "      <td>12.0</td>\n",
              "      <td>2.1262</td>\n",
              "      <td>0.00</td>\n",
              "      <td>1995.0</td>\n",
              "      <td>52.0</td>\n",
              "      <td>4.0</td>\n",
              "      <td>4.2206</td>\n",
              "      <td>20405.0</td>\n",
              "      <td>0.7515</td>\n",
              "      <td>7.0</td>\n",
              "      <td>7.0</td>\n",
              "      <td>3.0</td>\n",
              "      <td>0.0</td>\n",
              "      <td>24.0</td>\n",
              "      <td>17.305000</td>\n",
              "      <td>0.754336</td>\n",
              "      <td>576.0</td>\n",
              "    </tr>\n",
              "    <tr>\n",
              "      <th>9</th>\n",
              "      <td>1.0</td>\n",
              "      <td>1600.0</td>\n",
              "      <td>0.0</td>\n",
              "      <td>2.0</td>\n",
              "      <td>39.0</td>\n",
              "      <td>12.0</td>\n",
              "      <td>4.6875</td>\n",
              "      <td>4.15</td>\n",
              "      <td>2100.0</td>\n",
              "      <td>43.0</td>\n",
              "      <td>12.0</td>\n",
              "      <td>5.7143</td>\n",
              "      <td>20425.0</td>\n",
              "      <td>0.6915</td>\n",
              "      <td>7.0</td>\n",
              "      <td>7.0</td>\n",
              "      <td>5.0</td>\n",
              "      <td>0.0</td>\n",
              "      <td>21.0</td>\n",
              "      <td>12.925000</td>\n",
              "      <td>1.544899</td>\n",
              "      <td>441.0</td>\n",
              "    </tr>\n",
              "  </tbody>\n",
              "</table>\n",
              "</div>\n",
              "      <button class=\"colab-df-convert\" onclick=\"convertToInteractive('df-b72b8b4f-171a-493d-a5fd-577f2487c929')\"\n",
              "              title=\"Convert this dataframe to an interactive table.\"\n",
              "              style=\"display:none;\">\n",
              "        \n",
              "  <svg xmlns=\"http://www.w3.org/2000/svg\" height=\"24px\"viewBox=\"0 0 24 24\"\n",
              "       width=\"24px\">\n",
              "    <path d=\"M0 0h24v24H0V0z\" fill=\"none\"/>\n",
              "    <path d=\"M18.56 5.44l.94 2.06.94-2.06 2.06-.94-2.06-.94-.94-2.06-.94 2.06-2.06.94zm-11 1L8.5 8.5l.94-2.06 2.06-.94-2.06-.94L8.5 2.5l-.94 2.06-2.06.94zm10 10l.94 2.06.94-2.06 2.06-.94-2.06-.94-.94-2.06-.94 2.06-2.06.94z\"/><path d=\"M17.41 7.96l-1.37-1.37c-.4-.4-.92-.59-1.43-.59-.52 0-1.04.2-1.43.59L10.3 9.45l-7.72 7.72c-.78.78-.78 2.05 0 2.83L4 21.41c.39.39.9.59 1.41.59.51 0 1.02-.2 1.41-.59l7.78-7.78 2.81-2.81c.8-.78.8-2.07 0-2.86zM5.41 20L4 18.59l7.72-7.72 1.47 1.35L5.41 20z\"/>\n",
              "  </svg>\n",
              "      </button>\n",
              "      \n",
              "  <style>\n",
              "    .colab-df-container {\n",
              "      display:flex;\n",
              "      flex-wrap:wrap;\n",
              "      gap: 12px;\n",
              "    }\n",
              "\n",
              "    .colab-df-convert {\n",
              "      background-color: #E8F0FE;\n",
              "      border: none;\n",
              "      border-radius: 50%;\n",
              "      cursor: pointer;\n",
              "      display: none;\n",
              "      fill: #1967D2;\n",
              "      height: 32px;\n",
              "      padding: 0 0 0 0;\n",
              "      width: 32px;\n",
              "    }\n",
              "\n",
              "    .colab-df-convert:hover {\n",
              "      background-color: #E2EBFA;\n",
              "      box-shadow: 0px 1px 2px rgba(60, 64, 67, 0.3), 0px 1px 3px 1px rgba(60, 64, 67, 0.15);\n",
              "      fill: #174EA6;\n",
              "    }\n",
              "\n",
              "    [theme=dark] .colab-df-convert {\n",
              "      background-color: #3B4455;\n",
              "      fill: #D2E3FC;\n",
              "    }\n",
              "\n",
              "    [theme=dark] .colab-df-convert:hover {\n",
              "      background-color: #434B5C;\n",
              "      box-shadow: 0px 1px 3px 1px rgba(0, 0, 0, 0.15);\n",
              "      filter: drop-shadow(0px 1px 2px rgba(0, 0, 0, 0.3));\n",
              "      fill: #FFFFFF;\n",
              "    }\n",
              "  </style>\n",
              "\n",
              "      <script>\n",
              "        const buttonEl =\n",
              "          document.querySelector('#df-b72b8b4f-171a-493d-a5fd-577f2487c929 button.colab-df-convert');\n",
              "        buttonEl.style.display =\n",
              "          google.colab.kernel.accessAllowed ? 'block' : 'none';\n",
              "\n",
              "        async function convertToInteractive(key) {\n",
              "          const element = document.querySelector('#df-b72b8b4f-171a-493d-a5fd-577f2487c929');\n",
              "          const dataTable =\n",
              "            await google.colab.kernel.invokeFunction('convertToInteractive',\n",
              "                                                     [key], {});\n",
              "          if (!dataTable) return;\n",
              "\n",
              "          const docLinkHtml = 'Like what you see? Visit the ' +\n",
              "            '<a target=\"_blank\" href=https://colab.research.google.com/notebooks/data_table.ipynb>data table notebook</a>'\n",
              "            + ' to learn more about interactive tables.';\n",
              "          element.innerHTML = '';\n",
              "          dataTable['output_type'] = 'display_data';\n",
              "          await google.colab.output.renderOutput(dataTable, element);\n",
              "          const docLink = document.createElement('div');\n",
              "          docLink.innerHTML = docLinkHtml;\n",
              "          element.appendChild(docLink);\n",
              "        }\n",
              "      </script>\n",
              "    </div>\n",
              "  </div>\n",
              "  "
            ],
            "text/plain": [
              "   inlf   hours  kidslt6  kidsge6  ...  exper   nwifeinc     lwage  expersq\n",
              "0   1.0  1610.0      1.0      0.0  ...   14.0  10.910060  1.210154    196.0\n",
              "1   1.0  1656.0      0.0      2.0  ...    5.0  19.499981  0.328512     25.0\n",
              "2   1.0  1980.0      1.0      3.0  ...   15.0  12.039910  1.514138    225.0\n",
              "3   1.0   456.0      0.0      3.0  ...    6.0   6.799996  0.092123     36.0\n",
              "4   1.0  1568.0      1.0      2.0  ...    7.0  20.100060  1.524272     49.0\n",
              "5   1.0  2032.0      0.0      0.0  ...   33.0   9.859054  1.556480   1089.0\n",
              "6   1.0  1440.0      0.0      2.0  ...   11.0   9.152048  2.120260    121.0\n",
              "7   1.0  1020.0      0.0      0.0  ...   35.0  10.900040  2.059634   1225.0\n",
              "8   1.0  1458.0      0.0      2.0  ...   24.0  17.305000  0.754336    576.0\n",
              "9   1.0  1600.0      0.0      2.0  ...   21.0  12.925000  1.544899    441.0\n",
              "\n",
              "[10 rows x 22 columns]"
            ]
          },
          "metadata": {},
          "execution_count": 4
        }
      ],
      "source": [
        "## Vendo o DataFrame\n",
        "data.head(10)\n",
        "\n",
        "# inlf: dummy que indica se está ou não na força de trabalho (labor force)\n",
        "# hours: horas trabalhadas no ano\n",
        "# kidslt6: número de filhos com menos de 6 anos (less than 6)\n",
        "# kidsge6: número de filhos com mais de 6 anos (greater than 6)\n",
        "# wage: salário/hora estimado\n",
        "# repwage: salário/hora reportado \n",
        "# Não usaremos essa diferenciação para o nosso exercício, \n",
        "# mas ela é útil para verificar o que se chama de \"erros de medida\"\n",
        "\n",
        "# prefixo hus: dados do marido (husband)\n",
        "\n",
        "# faminc: renda familiar total (family income)\n",
        "# mtr: taxa marginal do imposto de renda (marginal tax rate)\n",
        "# motheduc, fatheduc: anos de escolaridade dos pais\n",
        "# unem: taxa de desemprego na cidade onde mora\n",
        "# city: dummy que indica se mora em grandes cidades\n",
        "# exper: anos de experiênca\n",
        "# nwifeinc: (faminc - wage*hours) (renda familiar não proveniente da mulher)"
      ]
    },
    {
      "cell_type": "code",
      "execution_count": null,
      "metadata": {
        "id": "iEOtcm3UD6JX"
      },
      "outputs": [],
      "source": [
        "## Descrevendo o DataFrame\n",
        "data.describe()"
      ]
    },
    {
      "cell_type": "markdown",
      "metadata": {
        "id": "Dh1IpCLSD6JZ"
      },
      "source": [
        "## Modelo de Probabilidade Linear (MPL): MQO aplicado a variáveis binárias"
      ]
    },
    {
      "cell_type": "markdown",
      "metadata": {
        "id": "P5qP4op1D6Ja"
      },
      "source": [
        "O modelo mais simples para estimar a probabilidade consiste em usar MQO para determinar o impacto das variáveis na \"escolha\" das mulheres de trabalhar ou não.\n",
        "Para isso, basta colocar a variável binária de decisão como a variável dependente no modelo. \n",
        "\n",
        "Contudo, há um *trade-off* entre simplicidade e robustez:\n",
        "\n",
        "- O MPL pode gerar resultados menores que 0 ou maiores que 1 (por definição, $0 ≤ Prob ≤ 1$). De modo geral, o MPL funciona melhor com os valores de variáveis independentes próximos à **média** da amostra.\n",
        "\n",
        "- Estatisticamente, a distribuição de uma variável binária é do tipo Bernoulli, e não normal, o que compromete inferências estatísticas em amostras pequenas.\n",
        "\n",
        "- Ainda falando de estatística, a variânca de uma variável aleatória com distribuição Bernoulli é $var(y | X) = p(1-p)$, onde $p$ é a probabilidade. Como $p$ é função do vetor $X$, o erro jamais será homoscedástico (variância constante ao longo de $X$), o que inviabiliza nossos erros-padrão e torna inválida qualquer inferência estatística não-robusta.\n",
        "\n",
        "- Por fim, como o modelo é linear, todos os efeitos das variáveis independentes são constantes. No exemplo, passar de 0 pra 1 filho com menos de 6 anos teria o mesmo efeito de passar de 2 pra 3, o que parece pouco verossímil (espera-se que o impacto do primeiro filho seja maior)."
      ]
    },
    {
      "cell_type": "code",
      "execution_count": null,
      "metadata": {
        "id": "bpvPRO_UD6Jx"
      },
      "outputs": [],
      "source": [
        "#### Criando o MPL\n",
        "### Formula (com experiência quadrática, ou seja, retornos côncavos)\n",
        "formula = \"inlf ~ nwifeinc + educ + exper + I(exper**2) + age + kidslt6 + kidsge6\"\n",
        "# Espera-se que:\n",
        "  # quanto maior a renda não-proveniente da mulher, menor a necessidade dela trabalhar para ajudar nos gastos da casa\n",
        "  # quanto maior a educação e a experiência, maior a chance de trabalhar (tem mais capital humano e pode ganhar mais)\n",
        "  # quanto maior o número de filhos, menor a chance de trabalhar (especialmente se forem pequenos)\n",
        "\n",
        "### Modelo com covariância robusta (MPL sempre é heteroscedástico)\n",
        "modelo_mpl = ols(formula=formula, data=data).fit(cov_type=\"HC1\", use_t=True)\n",
        "\n",
        "### Resultados\n",
        "print(modelo_mpl.summary())\n",
        "\n",
        "# nwifeinc: quanto maior a renda do resto da família, menor a chance de a mulher trabalhar\n",
        "# educ: um ano a mais de estudo aumenta em 3,8% a chance da mulher participar do mercado de trabalho, tudo o mais constante\n",
        "# kidslt6: ter filhos menores diminui muito (-26,18%) a chance de a mulher trabalhar; \n",
        "# filhos maiores, por outro lado, não afetam de forma estatisticamente significativa essa probabilidade"
      ]
    },
    {
      "cell_type": "code",
      "execution_count": null,
      "metadata": {
        "colab": {
          "base_uri": "https://localhost:8080/",
          "height": 234
        },
        "id": "yuFw_zcSD6Jy",
        "outputId": "854a719f-8321-47ee-87ae-0de772e49eba"
      },
      "outputs": [
        {
          "output_type": "error",
          "ename": "NameError",
          "evalue": "ignored",
          "traceback": [
            "\u001b[0;31m---------------------------------------------------------------------------\u001b[0m",
            "\u001b[0;31mNameError\u001b[0m                                 Traceback (most recent call last)",
            "\u001b[0;32m<ipython-input-1-c8f55c39f11b>\u001b[0m in \u001b[0;36m<module>\u001b[0;34m()\u001b[0m\n\u001b[1;32m      2\u001b[0m \u001b[0;31m# Lembrando: o teste é um diagnóstico que indica se precisamos ou não usar os erros robustos acima\u001b[0m\u001b[0;34m\u001b[0m\u001b[0;34m\u001b[0m\u001b[0;34m\u001b[0m\u001b[0m\n\u001b[1;32m      3\u001b[0m \u001b[0;31m# e seu resultado não é afetado pela matriz de covariância usada no modelo\u001b[0m\u001b[0;34m\u001b[0m\u001b[0;34m\u001b[0m\u001b[0;34m\u001b[0m\u001b[0m\n\u001b[0;32m----> 4\u001b[0;31m \u001b[0mteste_heteroscedasticidade\u001b[0m \u001b[0;34m=\u001b[0m \u001b[0msms\u001b[0m\u001b[0;34m.\u001b[0m\u001b[0mhet_breuschpagan\u001b[0m\u001b[0;34m(\u001b[0m\u001b[0mmodelo_mpl\u001b[0m\u001b[0;34m.\u001b[0m\u001b[0mresid\u001b[0m\u001b[0;34m,\u001b[0m \u001b[0mmodelo_mpl\u001b[0m\u001b[0;34m.\u001b[0m\u001b[0mmodel\u001b[0m\u001b[0;34m.\u001b[0m\u001b[0mexog\u001b[0m\u001b[0;34m)\u001b[0m\u001b[0;34m\u001b[0m\u001b[0;34m\u001b[0m\u001b[0m\n\u001b[0m\u001b[1;32m      5\u001b[0m \u001b[0;34m\u001b[0m\u001b[0m\n\u001b[1;32m      6\u001b[0m \u001b[0;31m# Pegando o p-valor\u001b[0m\u001b[0;34m\u001b[0m\u001b[0;34m\u001b[0m\u001b[0;34m\u001b[0m\u001b[0m\n",
            "\u001b[0;31mNameError\u001b[0m: name 'sms' is not defined"
          ]
        }
      ],
      "source": [
        "## Vamos realizar um teste de Breusch-Pagan para verificar a heteoscedasticidade\n",
        "# Lembrando: o teste é um diagnóstico que indica se precisamos ou não usar os erros robustos acima\n",
        "# e seu resultado não é afetado pela matriz de covariância usada no modelo\n",
        "teste_heteroscedasticidade = sms.het_breuschpagan(modelo_mpl.resid, modelo_mpl.model.exog)\n",
        "\n",
        "# Pegando o p-valor\n",
        "print(f\"P-valor: {teste_heteroscedasticidade[3]}\")\n",
        "print(\"H0: homoscedasticidade.\")\n",
        "\n",
        "# Como esperado, os resíduos são heteroscedásticos (p < 0.05)"
      ]
    },
    {
      "cell_type": "code",
      "execution_count": null,
      "metadata": {
        "id": "0JSWVvXbD6Jy"
      },
      "outputs": [],
      "source": [
        "## O que é mais interessante é ver os valores previstos pelo modelo\n",
        "# Pegando os valores previstos e adicionando como coluna\n",
        "data[\"pred_mpl\"] = modelo_mpl.predict()\n",
        "\n",
        "data[[\"inlf\", \"pred_mpl\"]].describe()\n",
        "\n",
        "# Valor mínimo de -0.34 e máximo de 1.12, o que não faz sentido!"
      ]
    },
    {
      "cell_type": "code",
      "execution_count": null,
      "metadata": {
        "id": "teqfaXJuD6Jz"
      },
      "outputs": [],
      "source": [
        "### Plottando\n",
        "## Objeto gráfico\n",
        "fig, ax = plt.subplots(figsize=(6, 6), dpi=100)\n",
        "\n",
        "## Valores observados (anos de educação é a variável do eixo x)\n",
        "sns.scatterplot(x=\"educ\", y=\"inlf\", data=data, label=\"Observados\")\n",
        "\n",
        "## Previstos\n",
        "sns.scatterplot(x=\"educ\", y=\"pred_mpl\", data=data, label=\"Previstos\")\n",
        "\n",
        "## Linhas horizontais no 0 e no 1 (limites da probabilidade)\n",
        "# Valores mínimos e máximos de educação\n",
        "nMinEduc = data[\"educ\"].min()\n",
        "nMaxEduc = data[\"educ\"].max()\n",
        "\n",
        "# Linhas pontilhadas\n",
        "plt.hlines(y=0, xmin=nMinEduc, xmax=nMaxEduc, linestyles=\"--\", color='k', alpha=0.5)\n",
        "plt.hlines(y=1, xmin=nMinEduc, xmax=nMaxEduc, linestyles=\"--\", color='k', alpha=0.5)\n",
        "\n",
        "## Áreas sombreadas para indicar probabilidades inválidas\n",
        "# Valores mínimos e máximos da probabilidade prevista\n",
        "nProbMin = data[\"pred_mpl\"].min()\n",
        "nProbMax = data[\"pred_mpl\"].max()\n",
        "\n",
        "# Áreas sombreadas\n",
        "# np.arange: construa um intervalo entre nMinEduc e nMaxEduc com \"passos\" de 0.1\n",
        "plt.fill_between(x=np.arange(nMinEduc, nMaxEduc + 1, 0.1), \n",
        "                 y1=nProbMin, y2=0, \n",
        "                 color='k', alpha=0.3)\n",
        "plt.fill_between(x=np.arange(nMinEduc, nMaxEduc + 1, 0.1), \n",
        "                 y1=1, y2=nProbMax, \n",
        "                 color='k', alpha=0.3)\n",
        "\n",
        "## Títulos e Eixos\n",
        "plt.title(\"Previsão do MPL\")\n",
        "plt.xlabel(\"Anos de Educação\")\n",
        "plt.ylabel(\"Probabilidade de Estar na Força de Trabalho\")\n",
        "\n",
        "## Legenda\n",
        "plt.legend(facecolor=None, frameon=False, loc='lower right')\n",
        "\n",
        "## Veja como temos pontos azuis nas áreas sombreadas, o que não é pra acontecer!"
      ]
    },
    {
      "cell_type": "markdown",
      "metadata": {
        "id": "1z_tn24TD6Jz"
      },
      "source": [
        "## Probit e Logit"
      ]
    },
    {
      "cell_type": "markdown",
      "metadata": {
        "id": "7E2wKIA9D6J0"
      },
      "source": [
        "Para contornar os problemas do MPL, podemos usar modelos que se baseiam em funções que, por construção, sempre produzem valores entre 0 e 1.\n",
        "\n",
        "Esse é o caso da **função de distribuição normal acumulada** - que dará origem ao modelo *probit* - e da **função logística**, que produzirá o *logit* ou a famosa *Regressão Logística*.\n",
        "\n",
        "Note que as funções usadas não são mais lineares, ou seja, não podemos usar MQO comum para a estimação. Matematicamente, os estimadores usados são os de máxima verossimilhança (MV), que já contém propriedades desejáveis contra heteroscedasticidades e inconsistências/viéses."
      ]
    },
    {
      "cell_type": "markdown",
      "metadata": {
        "id": "i2cVS4bmD6J0"
      },
      "source": [
        "### Comportamento das Funções"
      ]
    },
    {
      "cell_type": "code",
      "execution_count": null,
      "metadata": {
        "id": "4NPFhQgoD6J0"
      },
      "outputs": [],
      "source": [
        "### Vamos simular dados para ver os gráficos das funções usadas\n",
        "## Usando o scipy.stats para gerar a distribuição acumulada de uma função logística\n",
        "## Para compatibilizar com a norrmal, vamos usar o intervalo de -4 a 4\n",
        "# cdf: cumulative distribution function\n",
        "vLogistica = stats.logistic.cdf(np.arange(-4, 4, 0.1))\n",
        "\n",
        "## Usando o mesmo método para gerar a distribuição acumulada da normal\n",
        "vNormal = stats.norm.cdf(np.arange(-4, 4, 0.1))"
      ]
    },
    {
      "cell_type": "code",
      "execution_count": null,
      "metadata": {
        "id": "VoWACUjPD6J1"
      },
      "outputs": [],
      "source": [
        "## Plottando\n",
        "# Logística\n",
        "plt.plot(vLogistica)\n",
        "\n",
        "# Normal\n",
        "plt.plot(vNormal)\n",
        "\n",
        "# Legenda\n",
        "plt.legend(frameon=False, facecolor=None, labels=[\"Logística\", 'Normal'])\n",
        "\n",
        "# Títulos\n",
        "plt.title(\"Logística vs Normal\")\n",
        "plt.ylabel(\"Probabilidade\")\n",
        "\n",
        "# Logística: mais suave\n",
        "# Normal: mais concentrada nos valores médios/medianos"
      ]
    },
    {
      "cell_type": "markdown",
      "metadata": {
        "id": "jlYei4wlD6J1"
      },
      "source": [
        "### Modelos"
      ]
    },
    {
      "cell_type": "markdown",
      "metadata": {
        "id": "QRykKnWJD6J1"
      },
      "source": [
        "#### Logit"
      ]
    },
    {
      "cell_type": "code",
      "execution_count": null,
      "metadata": {
        "id": "USrmagQGD6J2"
      },
      "outputs": [],
      "source": [
        "## Usaremos a mesma fórmula do MPL\n",
        "## Convenientemente, por usarmos o statsmodels, a sintaxe é igual à de uma ols,\n",
        "## mudando apenas a função\n",
        "modelo_logit = logit(formula, data).fit(use_t=True, cov_type='HC1')\n",
        "\n",
        "## Printando sumário\n",
        "print(modelo_logit.summary())"
      ]
    },
    {
      "cell_type": "markdown",
      "metadata": {
        "id": "8MK7LWc5D6J2"
      },
      "source": [
        "Note que o sumário é um pouco diferente das regressões comuns, haja vista a não-linearidade e a estimação por máxima-verossimilhança (method=MLE, do inglês *Maximum Likelihood Estimador*). A grosso modo, a comparação com OLS é a seguinte:\n",
        "\n",
        "- $R^2$ se torna o **Pseudo-R2** e tem interpretação igual a antes (quanto mais próximo de 1, melhor)\n",
        "- Log-Likelihood e LLR p-value são os valores das estatísticas $F$ e $Prob(F)$, que indicam a signficância do modelo. No caso acima, o p-valor é muito baixo e, logo, o modelo é significante."
      ]
    },
    {
      "cell_type": "markdown",
      "metadata": {
        "id": "TcNAv-nsD6J2"
      },
      "source": [
        "Contudo, como o modelo não é linear, os valores dos parâmetros acima não refletem os valores marginais das variáveis (matematicamente, eles não são iguais à derivada parcial em virtude da regra da cadeia). Não podemos dizer, portanto, que 1 ano a mais de educação aumenta em 22% a probabilidade de uma mulher participar da força de trabalho.\n",
        "\n",
        "De fato, temos que colocar os coeficientes estimados e os valores das características individuais na função do modelo (logística ou normal acumulada)."
      ]
    },
    {
      "cell_type": "markdown",
      "source": [
        "Há diversas formas de se realizar essa tarefa, sendo os dois mais comuns:\n",
        "\n",
        "- O Efeito Parcial **na Média** (em inglês, *PEA* ou *mean*). Nesse método, se usa a média de cada coluna (pega-se a média de educação da amostra, média de idade...) e se coloca na função do modelo com os coeficientes estimados acima.\n",
        "\n",
        "- O Efeito Parcial **Médio** (em inglês, *APE* ou *overall*). Resumidamente, calcula-se o efeito parcial usando as características de cada indivíduo na amostra, e depois se tira a média desses efeitos.\n",
        "\n",
        "No capítulo 17 de seu livro \"Introdução à Econometria\" (2011), Wooldridge recomenda usar o *APE*, já que, por ser calculado para cada indivíduo, produz resultados mais precisos.\n",
        "Contudo, em amostras muito grandes (na ordem de milhões) isso pode ser computacionalmente muito demandante, o que justifica o uso do *PEA* nesses casos."
      ],
      "metadata": {
        "id": "fksW89fdikrj"
      }
    },
    {
      "cell_type": "code",
      "execution_count": null,
      "metadata": {
        "id": "wDLAWSMdD6J3"
      },
      "outputs": [],
      "source": [
        "## Coletando os efeitos marginais usando o APE (at='overall')\n",
        "# Vamos especificar count=True para mostrar ao statsmodels que nossas variáveis são discretas\n",
        "efeitos_marginais_logit = modelo_logit.get_margeff(at='overall', count=True)\n",
        "print(efeitos_marginais_logit.summary())"
      ]
    },
    {
      "cell_type": "markdown",
      "metadata": {
        "id": "gODI6f1JD6J3"
      },
      "source": [
        "O modelo logit indica que o efeito parcial médio de um ano a mais de estudo é de cerca de 3,94%, maior que o observado no MPL. O resultado de kidslt6 é um pouco menor que o observado visto no MPL."
      ]
    },
    {
      "cell_type": "code",
      "execution_count": null,
      "metadata": {
        "id": "GVOC_XvVD6J3"
      },
      "outputs": [],
      "source": [
        "## Contudo, como o modelo não é linear, os efeitos das variáveis variam dependendo de seu nível\n",
        "## Podemos, assim, também ver os efeitos no zero, ou seja, uma mudança de 0 para 1, o que não era possível no MPL\n",
        "# Quando usamos at='zero', não podemos especificar count=True\n",
        "efeitos_marginais_logit0 = modelo_logit.get_margeff(at='zero')\n",
        "print(efeitos_marginais_logit0.summary())\n",
        "\n",
        "# Vemos que os valores de educ aumentam, ou seja, anos adicionais em mulheres com maior escolaridade\n",
        "# afetam menos sua decisão do que entre as mulheres menos educadas\n",
        "\n",
        "# Além disso, o efeito do primeiro filho menor de 6 anos é muito mais pronunciado, em linha com o que esperávamos"
      ]
    },
    {
      "cell_type": "code",
      "source": [
        "## Podemos ver também os resultados usando o PEA\n",
        "print(modelo_logit.get_margeff(at='mean', count=True).summary())"
      ],
      "metadata": {
        "id": "qLAZi5Tkk0D9"
      },
      "execution_count": null,
      "outputs": []
    },
    {
      "cell_type": "code",
      "execution_count": null,
      "metadata": {
        "id": "iUXaaXyKD6J4"
      },
      "outputs": [],
      "source": [
        "## Por fim, grafando os resultados\n",
        "# Pegando os valores previstos e adicionando como coluna\n",
        "data[\"pred_logit\"] = modelo_logit.predict()\n",
        "\n",
        "data[[\"inlf\", \"pred_logit\"]].describe()\n",
        "\n",
        "# Nenhum valor menor que 0 ou maior que 1!"
      ]
    },
    {
      "cell_type": "code",
      "execution_count": null,
      "metadata": {
        "id": "jmBys3BAD6J4"
      },
      "outputs": [],
      "source": [
        "## Plottando\n",
        "# Objeto gráfico\n",
        "fig, ax = plt.subplots(figsize=(6, 6), dpi=100)\n",
        "\n",
        "# Valores observados\n",
        "sns.scatterplot(x=\"educ\", y=\"inlf\", data=data, label=\"Observados\")\n",
        "\n",
        "# Previstos\n",
        "sns.scatterplot(x=\"educ\", y=\"pred_logit\", data=data, label=\"Previstos Logit\")\n",
        "\n",
        "# Linhas horizontais no 0 e no 1\n",
        "plt.hlines(y=0, xmin=nMinEduc, xmax=nMaxEduc, linestyles=\"--\", color='k', alpha=0.5)\n",
        "plt.hlines(y=1, xmin=nMinEduc, xmax=nMaxEduc, linestyles=\"--\", color='k', alpha=0.5)\n",
        "\n",
        "# Áreas sombreadas para indicar probabilidades inválidas\n",
        "plt.fill_between(x=np.arange(nMinEduc, nMaxEduc + 1, 0.1), \n",
        "                 y1=nProbMin, y2=0, \n",
        "                 color='k', alpha=0.3)\n",
        "plt.fill_between(x=np.arange(nMinEduc, nMaxEduc + 1, 0.1), \n",
        "                 y1=1, y2=nProbMax, \n",
        "                 color='k', alpha=0.3)\n",
        "\n",
        "# Títulos e Eixos\n",
        "plt.title(\"Previsão do Logit\")\n",
        "plt.xlabel(\"Anos de Educação\")\n",
        "plt.ylabel(\"Probabilidade de Estar na Força de Trabalho\")\n",
        "\n",
        "# Legenda\n",
        "plt.legend(facecolor=None, frameon=False, loc='lower right')\n",
        "\n",
        "# Nenhum valor na zona sombreada!"
      ]
    },
    {
      "cell_type": "markdown",
      "metadata": {
        "id": "KNSr5E3TD6J5"
      },
      "source": [
        "#### Probit"
      ]
    },
    {
      "cell_type": "code",
      "execution_count": null,
      "metadata": {
        "id": "Mjk-TrPHD6J5"
      },
      "outputs": [],
      "source": [
        "## Seguiremos o mesmo procedimento acima a fim de comparar as estimativas\n",
        "modelo_probit = probit(formula, data).fit(use_t=True, cov_type='HC1')\n",
        "\n",
        "## Printando sumário\n",
        "print(modelo_probit.summary())\n",
        "\n",
        "# O pseudo R2 do probit é ligeiramente maior (+ 0.0009), mas nada muito grande\n",
        "# Ambos os modelos são significativos (vide LLR p-value)"
      ]
    },
    {
      "cell_type": "code",
      "execution_count": null,
      "metadata": {
        "id": "2Z09lUX8D6J6"
      },
      "outputs": [],
      "source": [
        "## Captando os efeitos marginais\n",
        "efeitos_marginais_probit = modelo_probit.get_margeff(at='overall', count=True)\n",
        "print(\"Probit:\")\n",
        "print(efeitos_marginais_probit.summary())\n",
        "\n",
        "print(\"\\nLogit:\")\n",
        "print(efeitos_marginais_logit.summary())\n",
        "\n",
        "# Educ iguais, mas probit preve um efeito maior para a queda na participação em virtude de filhos pequenos"
      ]
    },
    {
      "cell_type": "code",
      "execution_count": null,
      "metadata": {
        "id": "Gj1bu5p1D6J7"
      },
      "outputs": [],
      "source": [
        "## Captando os efeitos marginais no 0\n",
        "efeitos_marginais_probit0 = modelo_probit.get_margeff(at='zero')\n",
        "print(\"Probit:\")\n",
        "print(efeitos_marginais_probit0.summary())\n",
        "\n",
        "print(\"\\nLogit:\")\n",
        "print(efeitos_marginais_logit0.summary())\n",
        "\n",
        "# Logit capta um efeito positivo da educação maior quando se analisa os impactos no 0\n",
        "# Diferentemente do observado nas médias, o efeito de kidslt6 no logit é 1 p.p. maior (em módulo) que o do probit"
      ]
    },
    {
      "cell_type": "code",
      "execution_count": null,
      "metadata": {
        "id": "9yejuAJJD6J7"
      },
      "outputs": [],
      "source": [
        "## Por fim, grafando os resultados\n",
        "# Pegando os valores previstos e adicionando como coluna\n",
        "data[\"pred_probit\"] = modelo_probit.predict()\n",
        "\n",
        "# Vendo estatísticas descritivas de todas as previsões\n",
        "data[[\"inlf\", \"pred_mpl\", \"pred_logit\", \"pred_probit\" ]].describe()"
      ]
    },
    {
      "cell_type": "code",
      "execution_count": null,
      "metadata": {
        "id": "cr6-aaeSD6J8"
      },
      "outputs": [],
      "source": [
        "## Plottando\n",
        "# Objeto gráfico\n",
        "fig, ax = plt.subplots(figsize=(6, 6), dpi=100)\n",
        "\n",
        "# Valores observados\n",
        "sns.scatterplot(x=\"educ\", y=\"inlf\", data=data, label=\"Observados\")\n",
        "\n",
        "# Previstos\n",
        "sns.scatterplot(x=\"educ\", y=\"pred_probit\", data=data, label=\"Previstos Logit\")\n",
        "\n",
        "# Linhas horizontais no 0 e no 1\n",
        "plt.hlines(y=0, xmin=nMinEduc, xmax=nMaxEduc, linestyles=\"--\", color='k', alpha=0.5)\n",
        "plt.hlines(y=1, xmin=nMinEduc, xmax=nMaxEduc, linestyles=\"--\", color='k', alpha=0.5)\n",
        "\n",
        "# Áreas sombreadas para indicar probabilidades inválidas\n",
        "plt.fill_between(x=np.arange(nMinEduc, nMaxEduc + 1, 0.1), \n",
        "                 y1=nProbMin, y2=0, \n",
        "                 color='k', alpha=0.3)\n",
        "plt.fill_between(x=np.arange(nMinEduc, nMaxEduc + 1, 0.1), \n",
        "                 y1=1, y2=nProbMax, \n",
        "                 color='k', alpha=0.3)\n",
        "\n",
        "# Títulos e Eixos\n",
        "plt.title(\"Previsão do Probit\")\n",
        "plt.xlabel(\"Anos de Educação\")\n",
        "plt.ylabel(\"Probabilidade de Estar na Força de Trabalho\")\n",
        "\n",
        "# Legenda\n",
        "plt.legend(facecolor=None, frameon=False, loc='lower right')\n",
        "\n",
        "# Novamente, nenhum valor na área sombreada :)"
      ]
    },
    {
      "cell_type": "markdown",
      "source": [
        "## Exercício\n",
        "\n",
        "Um *fun fact* sobre os modelos binários é que há uma regra de bolso (que nem sempre funciona) para captar os efeitos marginais das variáveis na média (PEA): no *Probit*, basta dividir os coeficientes do sumário por 2,5, enquanto no *Logit* basta dividir por 4.\n",
        "\n",
        "Será que é verdade?"
      ],
      "metadata": {
        "id": "3ZCYcg7l4wI1"
      }
    },
    {
      "cell_type": "code",
      "source": [
        "## Vendo os efeitos marginais do modelo probit na média das características\n",
        "probit_pea = modelo_probit.get_margeff(at=\"mean\", count=True)\n",
        "\n",
        "print(probit_pea.summary())"
      ],
      "metadata": {
        "id": "no64RU0d5cCd"
      },
      "execution_count": null,
      "outputs": []
    },
    {
      "cell_type": "code",
      "source": [
        "## Criando um DataFrame com os resultados dy/dx acima e com a regra de bolsa\n",
        "dfComparacaoProbit = pd.DataFrame(\n",
        "    [probit_pea.margeff, \n",
        "     np.array(modelo_probit.params)[1:] / 2.5],\n",
        "    index=[\"Efeitos Marginais\", \"Regra de Bolso\"],\n",
        "    columns=modelo_probit.model.exog_names[1:]\n",
        ").T\n",
        "\n",
        "# Coluna de erro\n",
        "dfComparacaoProbit[\"Erro\"] = dfComparacaoProbit[\"Efeitos Marginais\"] - dfComparacaoProbit[\"Regra de Bolso\"]\n",
        "\n",
        "# Resultado\n",
        "dfComparacaoProbit"
      ],
      "metadata": {
        "id": "V6g6lm3L54tY"
      },
      "execution_count": null,
      "outputs": []
    },
    {
      "cell_type": "code",
      "source": [
        "## Fazendo a mesma coisa para o logit, só que agora dividindo por 4\n",
        "# Vendo os efeitos marginais do modelo probit na média das características\n",
        "logit_pea = modelo_logit.get_margeff(at=\"mean\", count=True)\n",
        "\n",
        "## Criando um DataFrame com os resultados dy/dx acima e com a regra de bolsa\n",
        "dfComparacaoLogit = pd.DataFrame(\n",
        "    [logit_pea.margeff, \n",
        "     np.array(modelo_logit.params)[1:] / 4],\n",
        "    index=[\"Efeitos Marginais\", \"Regra de Bolso\"],\n",
        "    columns=modelo_logit.model.exog_names[1:]\n",
        ").T\n",
        "\n",
        "# Coluna de erro\n",
        "dfComparacaoLogit[\"Erro\"] = dfComparacaoLogit[\"Efeitos Marginais\"] - dfComparacaoLogit[\"Regra de Bolso\"]\n",
        "\n",
        "# Resultado\n",
        "dfComparacaoLogit"
      ],
      "metadata": {
        "id": "hDaCCl8F4vpK"
      },
      "execution_count": null,
      "outputs": []
    },
    {
      "cell_type": "markdown",
      "metadata": {
        "id": "DWKP2OEMt1Eu"
      },
      "source": [
        "# Obrigado, boas férias e boas festas!"
      ]
    }
  ],
  "metadata": {
    "colab": {
      "collapsed_sections": [],
      "name": "Aula_2021_12_16_ModelosBinarios.ipynb",
      "provenance": [],
      "include_colab_link": true
    },
    "kernelspec": {
      "display_name": "Python 3",
      "name": "python3"
    },
    "language_info": {
      "codemirror_mode": {
        "name": "ipython",
        "version": 3
      },
      "file_extension": ".py",
      "mimetype": "text/x-python",
      "name": "python",
      "nbconvert_exporter": "python",
      "pygments_lexer": "ipython3",
      "version": "3.8.10"
    }
  },
  "nbformat": 4,
  "nbformat_minor": 0
}