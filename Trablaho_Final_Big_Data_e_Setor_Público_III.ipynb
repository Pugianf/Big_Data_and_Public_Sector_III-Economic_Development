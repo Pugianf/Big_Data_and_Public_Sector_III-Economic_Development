{
  "nbformat": 4,
  "nbformat_minor": 0,
  "metadata": {
    "colab": {
      "name": "Trablaho Final - Big Data e Setor Público III.ipynb",
      "provenance": [],
      "authorship_tag": "ABX9TyPg9adfIROEj1PfcEvwtiBL",
      "include_colab_link": true
    },
    "kernelspec": {
      "name": "python3",
      "display_name": "Python 3"
    },
    "language_info": {
      "name": "python"
    }
  },
  "cells": [
    {
      "cell_type": "markdown",
      "metadata": {
        "id": "view-in-github",
        "colab_type": "text"
      },
      "source": [
        "<a href=\"https://colab.research.google.com/github/Pugianf/Big_Data_and_Public_Sector_III-Economic_Development/blob/main/Trablaho_Final_Big_Data_e_Setor_P%C3%BAblico_III.ipynb\" target=\"_parent\"><img src=\"https://colab.research.google.com/assets/colab-badge.svg\" alt=\"Open In Colab\"/></a>"
      ]
    },
    {
      "cell_type": "markdown",
      "source": [
        "## Questão 1 - Biblioteca ipeadatapy e atualização statsmodel"
      ],
      "metadata": {
        "id": "c-NnRcLVlhuF"
      }
    },
    {
      "cell_type": "code",
      "execution_count": 1,
      "metadata": {
        "id": "ycd5m-MFlWna"
      },
      "outputs": [],
      "source": [
        "# instalação ipeadatapy e atualização statsmodels\n",
        "\n",
        "from IPython.display import clear_output\n",
        "\n",
        "!pip uninstall statsmodels -y\n",
        "!pip install statsmodels\n",
        "!pip install ipeadatapy\n",
        "!pip install pybacen\n",
        "!pip install wbgapi\n",
        "!pip install geopandas\n",
        "!pip install mapclassify\n",
        "!pip install geobr\n",
        "\n",
        "clear_output() "
      ]
    },
    {
      "cell_type": "code",
      "source": [
        "# importação de bibliotecas necessárias\n",
        "\n",
        "# manipulação de dados\n",
        "\n",
        "import pandas as pd\n",
        "import numpy as np\n",
        "\n",
        "# estatística e modelos\n",
        "\n",
        "from scipy import stats\n",
        "import statsmodels.api as sm\n",
        "import statsmodels.stats.api as sms\n",
        "\n",
        "# gráficos\n",
        "\n",
        "import matplotlib.pyplot as plt\n",
        "import matplotlib.ticker as mtick \n",
        "import matplotlib as mpl\n",
        "import seaborn as sns\n",
        "\n",
        "# mapas\n",
        "\n",
        "import geopandas as gpd\n",
        "import mapclassify\n",
        "import geobr\n",
        "\n",
        "# estilo dos gráficos\n",
        "\n",
        "from matplotlib import style\n",
        "style.use(\"ggplot\")\n",
        "\n",
        "# coleta de dados\n",
        "import ipeadatapy\n",
        "from pybacen.bacen import time_series \n",
        "import wbgapi as wb"
      ],
      "metadata": {
        "id": "7G0CNzr0msS_"
      },
      "execution_count": 2,
      "outputs": []
    },
    {
      "cell_type": "markdown",
      "source": [
        "## Questão 2 - Montando DataFrame com ipeadatapy"
      ],
      "metadata": {
        "id": "zvud_C5CnwPD"
      }
    },
    {
      "cell_type": "code",
      "source": [
        "# coletando taxa de inflação\n",
        "\n",
        "dfIPCA = ipeadatapy.timeseries('PAN12_IPCAG12') \n",
        "\n",
        "dfIPCA"
      ],
      "metadata": {
        "id": "qlnR-qlKoAWU"
      },
      "execution_count": null,
      "outputs": []
    },
    {
      "cell_type": "code",
      "source": [
        ""
      ],
      "metadata": {
        "id": "qNGdl3aAoLU0"
      },
      "execution_count": null,
      "outputs": []
    }
  ]
}